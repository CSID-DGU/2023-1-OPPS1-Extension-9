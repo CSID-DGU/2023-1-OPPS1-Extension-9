{
 "cells": [
  {
   "cell_type": "code",
   "execution_count": 1,
   "id": "50d1e8cf",
   "metadata": {
    "scrolled": true
   },
   "outputs": [
    {
     "name": "stdout",
     "output_type": "stream",
     "text": [
      "importing Jupyter notebook from model_test_for_openmax_revise2.ipynb\n",
      "hate_data : 90000\n",
      "genderbias_data : 1232\n",
      "ilbe_data : 2044\n",
      "<class 'pandas.core.frame.DataFrame'>\n",
      "등장 빈도가 1번 이하인 희귀 단어의 수: 26388\n",
      "단어 집합(vocabulary)에서 희귀 단어의 비율: 83.86194622767431\n",
      "전체 등장 빈도에서 희귀 단어 등장 빈도 비율: 50.13679890560876\n",
      "문장 최대 길이 : 194\n",
      "문장 평균 길이 : 9.977630\n"
     ]
    },
    {
     "data": {
      "image/png": "[encoded data removed]",
      "text/plain": [
       "<Figure size 640x480 with 1 Axes>"
      ]
     },
     "metadata": {},
     "output_type": "display_data"
    },
    {
     "name": "stdout",
     "output_type": "stream",
     "text": [
      "Model: \"sequential\"\n",
      "_________________________________________________________________\n",
      " Layer (type)                Output Shape              Param #   \n",
      "=================================================================\n",
      " embedding (Embedding)       (None, 194, 64)           64000000  \n",
      "                                                                 \n",
      " dropout (Dropout)           (None, 194, 64)           0         \n",
      "                                                                 \n",
      " conv1d (Conv1D)             (None, 192, 64)           12352     \n",
      "                                                                 \n",
      " global_max_pooling1d (Globa  (None, 64)               0         \n",
      " lMaxPooling1D)                                                  \n",
      "                                                                 \n",
      " dropout_1 (Dropout)         (None, 64)                0         \n",
      "                                                                 \n",
      " dense (Dense)               (None, 128)               8320      \n",
      "                                                                 \n",
      " dropout_2 (Dropout)         (None, 128)               0         \n",
      "                                                                 \n",
      " dense_1 (Dense)             (None, 3)                 387       \n",
      "                                                                 \n",
      "=================================================================\n",
      "Total params: 64,021,059\n",
      "Trainable params: 64,021,059\n",
      "Non-trainable params: 0\n",
      "_________________________________________________________________\n",
      "Epoch 1/5\n",
      "132/132 [==============================] - 89s 667ms/step - loss: 1.0775 - accuracy: 0.3893 - f1: 0.4446 - precision: 29848486.0000 - recall: 0.2265\n",
      "Epoch 2/5\n",
      "132/132 [==============================] - 88s 665ms/step - loss: 1.0672 - accuracy: 0.3955 - f1: 0.5560 - precision: 40909084.0000 - recall: 0.2825\n",
      "Model: \"sequential_1\"\n",
      "_________________________________________________________________\n",
      " Layer (type)                Output Shape              Param #   \n",
      "=================================================================\n",
      " embedding_1 (Embedding)     (None, 194, 64)           64000000  \n",
      "                                                                 \n",
      " dropout_3 (Dropout)         (None, 194, 64)           0         \n",
      "                                                                 \n",
      " conv1d_1 (Conv1D)           (None, 192, 64)           12352     \n",
      "                                                                 \n",
      " global_max_pooling1d_1 (Glo  (None, 64)               0         \n",
      " balMaxPooling1D)                                                \n",
      "                                                                 \n",
      " dropout_4 (Dropout)         (None, 64)                0         \n",
      "                                                                 \n",
      " dense_2 (Dense)             (None, 128)               8320      \n",
      "                                                                 \n",
      " dropout_5 (Dropout)         (None, 128)               0         \n",
      "                                                                 \n",
      " dense_3 (Dense)             (None, 3)                 387       \n",
      "                                                                 \n",
      "=================================================================\n",
      "Total params: 64,021,059\n",
      "Trainable params: 64,021,059\n",
      "Non-trainable params: 0\n",
      "_________________________________________________________________\n",
      "Epoch 1/5\n",
      "132/132 [==============================] - 90s 678ms/step - loss: 1.0801 - accuracy: 0.3768 - f1: 0.5728 - precision: 29848482.0000 - recall: 0.2996\n",
      "Epoch 2/5\n",
      "132/132 [==============================] - 89s 676ms/step - loss: 1.0636 - accuracy: 0.4066 - f1: 0.8004 - precision: 37500012.0000 - recall: 0.4231\n",
      "Model: \"sequential_2\"\n",
      "_________________________________________________________________\n",
      " Layer (type)                Output Shape              Param #   \n",
      "=================================================================\n",
      " embedding_2 (Embedding)     (None, 194, 64)           64000000  \n",
      "                                                                 \n",
      " dropout_6 (Dropout)         (None, 194, 64)           0         \n",
      "                                                                 \n",
      " conv1d_2 (Conv1D)           (None, 192, 64)           12352     \n",
      "                                                                 \n",
      " global_max_pooling1d_2 (Glo  (None, 64)               0         \n",
      " balMaxPooling1D)                                                \n",
      "                                                                 \n",
      " dropout_7 (Dropout)         (None, 64)                0         \n",
      "                                                                 \n",
      " dense_4 (Dense)             (None, 128)               8320      \n",
      "                                                                 \n",
      " dropout_8 (Dropout)         (None, 128)               0         \n",
      "                                                                 \n",
      " dense_5 (Dense)             (None, 3)                 387       \n",
      "                                                                 \n",
      "=================================================================\n",
      "Total params: 64,021,059\n",
      "Trainable params: 64,021,059\n",
      "Non-trainable params: 0\n",
      "_________________________________________________________________\n",
      "Epoch 1/5\n",
      "132/132 [==============================] - 92s 687ms/step - loss: 1.0814 - accuracy: 0.3858 - f1: 0.5358 - precision: 29696966.0000 - recall: 0.2769\n",
      "Epoch 2/5\n",
      "132/132 [==============================] - 91s 687ms/step - loss: 1.0621 - accuracy: 0.4085 - f1: 0.7907 - precision: 31893942.0000 - recall: 0.4341\n",
      "Model: \"sequential_3\"\n",
      "_________________________________________________________________\n",
      " Layer (type)                Output Shape              Param #   \n",
      "=================================================================\n",
      " embedding_3 (Embedding)     (None, 194, 64)           64000000  \n",
      "                                                                 \n",
      " dropout_9 (Dropout)         (None, 194, 64)           0         \n",
      "                                                                 \n",
      " conv1d_3 (Conv1D)           (None, 192, 64)           12352     \n",
      "                                                                 \n",
      " global_max_pooling1d_3 (Glo  (None, 64)               0         \n",
      " balMaxPooling1D)                                                \n",
      "                                                                 \n",
      " dropout_10 (Dropout)        (None, 64)                0         \n",
      "                                                                 \n",
      " dense_6 (Dense)             (None, 128)               8320      \n",
      "                                                                 \n",
      " dropout_11 (Dropout)        (None, 128)               0         \n",
      "                                                                 \n",
      " dense_7 (Dense)             (None, 3)                 387       \n",
      "                                                                 \n",
      "=================================================================\n",
      "Total params: 64,021,059\n",
      "Trainable params: 64,021,059\n",
      "Non-trainable params: 0\n",
      "_________________________________________________________________\n",
      "Epoch 1/5\n",
      "132/132 [==============================] - 92s 689ms/step - loss: 1.0755 - accuracy: 0.3851 - f1: 1.1727 - precision: 9393939.0000 - recall: 0.6946\n",
      "Epoch 2/5\n",
      "132/132 [==============================] - 91s 689ms/step - loss: 1.0635 - accuracy: 0.3967 - f1: 1.2507 - precision: 7727273.5000 - recall: 0.7822\n",
      "Model: \"sequential_4\"\n",
      "_________________________________________________________________\n",
      " Layer (type)                Output Shape              Param #   \n",
      "=================================================================\n",
      " embedding_4 (Embedding)     (None, 194, 64)           64000000  \n",
      "                                                                 \n",
      " dropout_12 (Dropout)        (None, 194, 64)           0         \n",
      "                                                                 \n",
      " conv1d_4 (Conv1D)           (None, 192, 64)           12352     \n",
      "                                                                 \n",
      " global_max_pooling1d_4 (Glo  (None, 64)               0         \n",
      " balMaxPooling1D)                                                \n",
      "                                                                 \n",
      " dropout_13 (Dropout)        (None, 64)                0         \n",
      "                                                                 \n",
      " dense_8 (Dense)             (None, 128)               8320      \n",
      "                                                                 \n",
      " dropout_14 (Dropout)        (None, 128)               0         \n",
      "                                                                 \n",
      " dense_9 (Dense)             (None, 3)                 387       \n",
      "                                                                 \n",
      "=================================================================\n",
      "Total params: 64,021,059\n",
      "Trainable params: 64,021,059\n",
      "Non-trainable params: 0\n",
      "_________________________________________________________________\n",
      "Epoch 1/5\n",
      "132/132 [==============================] - 92s 687ms/step - loss: 1.0804 - accuracy: 0.3872 - f1: 0.6166 - precision: 31515150.0000 - recall: 0.3206\n",
      "Epoch 2/5\n",
      "132/132 [==============================] - 91s 688ms/step - loss: 1.0601 - accuracy: 0.4076 - f1: 0.6890 - precision: 43030304.0000 - recall: 0.3599\n",
      "Epoch 1/5\n",
      "132/132 [==============================] - 91s 688ms/step - loss: 0.9584 - accuracy: 0.5062 - f1: 0.9877 - precision: 1.6312 - recall: 0.8949\n",
      "Epoch 2/5\n",
      "132/132 [==============================] - 91s 691ms/step - loss: 0.7058 - accuracy: 0.6851 - f1: 0.9095 - precision: 0.6847 - recall: 1.4027\n",
      "33/33 [==============================] - 0s 4ms/step\n",
      "9.17227767744764 2.6209832160666835\n"
     ]
    },
    {
     "data": {
      "image/png": "[encoded data removed]",
      "text/plain": [
       "<Figure size 640x480 with 1 Axes>"
      ]
     },
     "metadata": {},
     "output_type": "display_data"
    },
    {
     "name": "stdout",
     "output_type": "stream",
     "text": [
      "12.231698490405988 10.809680565084179\n"
     ]
    },
    {
     "data": {
      "image/png": "[encoded data removed]",
      "text/plain": [
       "<Figure size 640x480 with 1 Axes>"
      ]
     },
     "metadata": {},
     "output_type": "display_data"
    },
    {
     "name": "stdout",
     "output_type": "stream",
     "text": [
      "11.58359786528105 2.25338583097953\n"
     ]
    },
    {
     "data": {
      "image/png": "[encoded data removed]",
      "text/plain": [
       "<Figure size 640x480 with 1 Axes>"
      ]
     },
     "metadata": {},
     "output_type": "display_data"
    },
    {
     "name": "stdout",
     "output_type": "stream",
     "text": [
      "66/66 [==============================] - 1s 2ms/step - loss: 2.2699 - accuracy: 0.0616 - f1: 1.8099 - precision: 3.0799 - recall: 1.3957\n",
      "66/66 [==============================] - 0s 938us/step\n"
     ]
    },
    {
     "data": {
      "image/png": "[encoded data removed]",
      "text/plain": [
       "<Figure size 640x480 with 2 Axes>"
      ]
     },
     "metadata": {},
     "output_type": "display_data"
    },
    {
     "name": "stdout",
     "output_type": "stream",
     "text": [
      "66/66 [==============================] - 0s 2ms/step\n",
      "33/33 [==============================] - 0s 4ms/step - loss: 0.9215 - accuracy: 0.5336 - f1: 0.9501 - precision: 0.7135 - recall: 1.4473\n",
      "테스트 정확도: 0.5336\n"
     ]
    }
   ],
   "source": [
    "import numpy as np\n",
    "import pandas as pd\n",
    "%matplotlib inline\n",
    "import matplotlib.pyplot as plt\n",
    "from tensorflow.keras.preprocessing.text import Tokenizer\n",
    "from tensorflow.keras.preprocessing.sequence import pad_sequences\n",
    "import import_ipynb\n",
    "import model_test_for_openmax_revise2\n",
    "from model_test_for_openmax_revise2 import *"
   ]
  },
  {
   "cell_type": "code",
   "execution_count": 2,
   "id": "02837354",
   "metadata": {
    "scrolled": true
   },
   "outputs": [],
   "source": [
    "input_data = str(input())"
   ]
  },
  {
   "cell_type": "code",
   "execution_count": 3,
   "id": "21fd36d1",
   "metadata": {},
   "outputs": [],
   "source": [
    "def tokenize(x_data, tokenizer):\n",
    "    tokenizer.fit_on_texts(x_data) # 데이터의 각 행별로 토큰화 수행\n",
    "    return tokenizer.texts_to_sequences(x_data)    "
   ]
  },
  {
   "cell_type": "code",
   "execution_count": 4,
   "id": "5ca23929",
   "metadata": {},
   "outputs": [
    {
     "data": {
      "text/plain": [
       "['저 개돼지는 정신 언제 차리냐? ㅋㅋㅋ']"
      ]
     },
     "execution_count": 4,
     "metadata": {},
     "output_type": "execute_result"
    }
   ],
   "source": [
    "x_data = []\n",
    "x_data.append(input_data)\n",
    "y_data = -1    # 임시 값\n",
    "\n",
    "x_data"
   ]
  },
  {
   "cell_type": "code",
   "execution_count": 5,
   "id": "d227dfa8",
   "metadata": {},
   "outputs": [
    {
     "data": {
      "text/plain": [
       "[[1, 2, 3, 4, 5, 6]]"
      ]
     },
     "execution_count": 5,
     "metadata": {},
     "output_type": "execute_result"
    }
   ],
   "source": [
    "tokenizer = Tokenizer()\n",
    "sequences = tokenize(x_data, tokenizer)\n",
    "sequences"
   ]
  },
  {
   "attachments": {},
   "cell_type": "markdown",
   "id": "15aa16f3",
   "metadata": {},
   "source": [
    "## 모델 적용"
   ]
  },
  {
   "cell_type": "code",
   "execution_count": 6,
   "id": "b24325db",
   "metadata": {},
   "outputs": [],
   "source": [
    "from keras.models import model_from_json\n",
    "json_file = open(\"model.json\", \"r\")\n",
    "loaded_model_json = json_file.read() \n",
    "json_file.close()\n",
    "loaded_model = model_from_json(loaded_model_json)"
   ]
  },
  {
   "cell_type": "code",
   "execution_count": 7,
   "id": "fc59e737",
   "metadata": {},
   "outputs": [],
   "source": [
    "loaded_model.load_weights(\"model_weight.h5\")"
   ]
  },
  {
   "cell_type": "code",
   "execution_count": 8,
   "id": "66602d02",
   "metadata": {},
   "outputs": [],
   "source": [
    "loaded_model.compile(optimizer='adam', loss=SparseCategoricalCrossentropy(from_logits=True),metrics= [\"accuracy\",f1,precision, recall])\n",
    "es = EarlyStopping(monitor='loss', mode='min' , min_delta=0)\n",
    "check_point = ModelCheckpoint('apply_model.h5', monitor='loss', mode='min', save_best_only=True)"
   ]
  },
  {
   "cell_type": "code",
   "execution_count": 9,
   "id": "11f7f1d8",
   "metadata": {},
   "outputs": [
    {
     "name": "stdout",
     "output_type": "stream",
     "text": [
      "1/1 [==============================] - 0s 23ms/step\n",
      "1/1 [==============================] - 0s 22ms/step\n"
     ]
    },
    {
     "data": {
      "text/plain": [
       "array([ 1.4901943, -3.4639125,  1.9844636], dtype=float32)"
      ]
     },
     "execution_count": 9,
     "metadata": {},
     "output_type": "execute_result"
    }
   ],
   "source": [
    "data = sequences\n",
    "X_data = pad_sequences(data, maxlen = model_test_for_openmax_revise2.maxlen)\n",
    "X_result = model_test_for_openmax_revise2.model.predict(X_data, batch_size=32)\n",
    "X_Softmax = model_test_for_openmax_revise2.model2.predict(X_result)\n",
    "\n",
    "X_result = X_result[0]\n",
    "X_result"
   ]
  },
  {
   "attachments": {},
   "cell_type": "markdown",
   "id": "8b3a2472",
   "metadata": {},
   "source": [
    "## logit Vector, Distance 계산"
   ]
  },
  {
   "attachments": {},
   "cell_type": "markdown",
   "id": "f9a45e9d",
   "metadata": {},
   "source": [
    "## 모델 저장"
   ]
  },
  {
   "cell_type": "code",
   "execution_count": 10,
   "id": "1702c662",
   "metadata": {},
   "outputs": [],
   "source": [
    "def distance(logit_vector, average):\n",
    "    m = []\n",
    "    for i in range(0,3):\n",
    "        m.append(logit_vector[i] - average[i])\n",
    "    distance = (m[0]**2) + (m[1]**2) + (m[2]**2)\n",
    "    return distance\n",
    "\n",
    "dist0 = distance(X_result, average_0)\n",
    "dist1 = distance(X_result, average_1)\n",
    "dist2 = distance(X_result, average_2)"
   ]
  },
  {
   "attachments": {},
   "cell_type": "markdown",
   "id": "e116d3c2",
   "metadata": {},
   "source": [
    "## CDF 계산"
   ]
  },
  {
   "cell_type": "code",
   "execution_count": 11,
   "id": "08b3f2e5",
   "metadata": {},
   "outputs": [],
   "source": [
    "import scipy.stats as s\n",
    "import matplotlib.pyplot as plt"
   ]
  },
  {
   "cell_type": "code",
   "execution_count": 12,
   "id": "1390020d",
   "metadata": {},
   "outputs": [],
   "source": [
    "def calculCDF(dist, input_loc, input_scale):\n",
    "    CDF = s.exponweib.cdf(dist, *s.exponweib.fit(dist, 2, 5, scale=input_scale, loc=input_loc))     \n",
    "    return CDF\n",
    "\n",
    "def weib(x,n,a):\n",
    "    return (a / n) * (x / n)**(a - 1) * np.exp(-(x / n)**a)"
   ]
  },
  {
   "cell_type": "code",
   "execution_count": 13,
   "id": "b1ba74b1",
   "metadata": {
    "scrolled": true
   },
   "outputs": [],
   "source": [
    "maxdist0.insert(20,dist0)\n",
    "maxdist0 = maxdist0[0:21]\n",
    "maxdist0.sort(reverse=True)\n",
    "index0 = maxdist0.index(dist0)\n",
    "maxdist1.insert(20,dist1)\n",
    "maxdist1 = maxdist1[0:21]\n",
    "maxdist1.sort(reverse=True)\n",
    "index1 = maxdist1.index(dist1)\n",
    "maxdist2.insert(20,dist2)\n",
    "maxdist2 = maxdist2[0:21]\n",
    "maxdist2.sort(reverse=True)\n",
    "index2 = maxdist2.index(dist2)\n",
    "\n",
    "CDF0 = s.exponweib.cdf(maxdist0, *s.exponweib.fit(maxdist0, 1, 1, scale=2, loc=0))\n",
    "CDF1 = s.exponweib.cdf(maxdist1, *s.exponweib.fit(maxdist1, 1, 1, scale=2, loc=0))\n",
    "CDF2 = s.exponweib.cdf(maxdist2, *s.exponweib.fit(maxdist2, 1, 1, scale=2, loc=0))\n",
    "\n",
    "input_CDF0 = CDF0[index0]\n",
    "input_CDF1 = CDF1[index1]\n",
    "input_CDF2 = CDF2[index2]"
   ]
  },
  {
   "attachments": {},
   "cell_type": "markdown",
   "id": "7a637b12",
   "metadata": {},
   "source": [
    "## Logit Vector 업데이트"
   ]
  },
  {
   "cell_type": "code",
   "execution_count": 14,
   "id": "13fb4a16",
   "metadata": {},
   "outputs": [
    {
     "data": {
      "text/plain": [
       "[1.1683566842946722,\n",
       " 0.22710393289187758,\n",
       " -1.6766839474737267,\n",
       " 0.2919687364379948]"
      ]
     },
     "execution_count": 14,
     "metadata": {},
     "output_type": "execute_result"
    }
   ],
   "source": [
    "updated_logit = []\n",
    "\n",
    "logit0 = X_result[0]-(X_result[0]*input_CDF0)\n",
    "logit1 = X_result[1]-(X_result[1]*input_CDF1)\n",
    "logit2 = X_result[2]-(X_result[2]*input_CDF2)\n",
    "unknown_logit = (input_CDF0*X_result[0]) + (input_CDF1*X_result[1]) + (input_CDF2*X_result[2]) # unknown class의 logit vector     \n",
    "\n",
    "updated_logit = [unknown_logit, logit0, logit1, logit2]\n",
    "\n",
    "updated_logit"
   ]
  },
  {
   "attachments": {},
   "cell_type": "markdown",
   "id": "c68d49f4",
   "metadata": {},
   "source": [
    "## Softmax Layer 통과"
   ]
  },
  {
   "cell_type": "code",
   "execution_count": 15,
   "id": "2ebb548b",
   "metadata": {},
   "outputs": [],
   "source": [
    "# softmax function\n",
    "def softmax(x):\n",
    "    e_x = np.exp(x - np.max(x))\n",
    "    return e_x / e_x.sum()"
   ]
  },
  {
   "cell_type": "code",
   "execution_count": 16,
   "id": "477f72a0",
   "metadata": {
    "scrolled": true
   },
   "outputs": [],
   "source": [
    "result_arr = softmax(updated_logit)\n",
    "arr = result_arr.tolist()\n",
    "soft_arr = max(arr)\n",
    "res = arr.index(soft_arr)\n",
    "prob = arr[res]"
   ]
  },
  {
   "attachments": {},
   "cell_type": "markdown",
   "id": "209dfe49",
   "metadata": {},
   "source": [
    "## 결과 확인"
   ]
  },
  {
   "cell_type": "code",
   "execution_count": 17,
   "id": "1ec52add",
   "metadata": {},
   "outputs": [
    {
     "data": {
      "text/plain": [
       "'Unknown'"
      ]
     },
     "execution_count": 17,
     "metadata": {},
     "output_type": "execute_result"
    }
   ],
   "source": [
    "if(res==0):\n",
    "    resultstr = \"Unknown\"\n",
    "elif(res==1):\n",
    "    resultstr = \"혐오성 댓글\"\n",
    "elif(res==2):\n",
    "    resultstr = \"성차별 댓글\"\n",
    "elif(res == 3):\n",
    "    resultstr = \"일베 댓글\"\n",
    "    \n",
    "resultstr"
   ]
  },
  {
   "cell_type": "code",
   "execution_count": 18,
   "id": "98c32a67",
   "metadata": {},
   "outputs": [
    {
     "name": "stdout",
     "output_type": "stream",
     "text": [
      "0.5363211354325358 확률로 Unknown입니다.\n"
     ]
    }
   ],
   "source": [
    "print(str(prob) + \" 확률로 \" + resultstr +\"입니다.\")"
   ]
  },
  {
   "cell_type": "code",
   "execution_count": 19,
   "id": "5df86a9c",
   "metadata": {},
   "outputs": [
    {
     "name": "stdout",
     "output_type": "stream",
     "text": [
      "33/33 [==============================] - 1s 5ms/step - loss: 0.9215 - accuracy: 0.5336 - f1: 0.9501 - precision: 0.7135 - recall: 1.4473\n",
      "정확도: 0.5336\n"
     ]
    }
   ],
   "source": [
    "print(\"정확도: %.4f\" % (loaded_model.evaluate(X_test, y_test)[1]))"
   ]
  }
 ],
 "metadata": {
  "kernelspec": {
   "display_name": "Python 3",
   "language": "python",
   "name": "python3"
  },
  "language_info": {
   "codemirror_mode": {
    "name": "ipython",
    "version": 3
   },
   "file_extension": ".py",
   "mimetype": "text/x-python",
   "name": "python",
   "nbconvert_exporter": "python",
   "pygments_lexer": "ipython3",
   "version": "3.7.16"
  }
 },
 "nbformat": 4,
 "nbformat_minor": 5
}
